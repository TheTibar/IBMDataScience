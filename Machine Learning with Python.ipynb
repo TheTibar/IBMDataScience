{
    "cells": [
        {
            "metadata": {
                "button": false,
                "new_sheet": false,
                "run_control": {
                    "read_only": false
                }
            },
            "cell_type": "markdown",
            "source": "<a href=\"https://www.bigdatauniversity.com\"><img src=\"https://ibm.box.com/shared/static/cw2c7r3o20w9zn8gkecaeyjhgw3xdgbj.png\" width=\"400\" align=\"center\"></a>\n\n<h1 align=\"center\"><font size=\"5\">Classification with Python</font></h1>"
        },
        {
            "metadata": {
                "button": false,
                "new_sheet": false,
                "run_control": {
                    "read_only": false
                }
            },
            "cell_type": "markdown",
            "source": "In this notebook we try to practice all the classification algorithms that we learned in this course.\n\nWe load a dataset using Pandas library, and apply the following algorithms, and find the best one for this specific dataset by accuracy evaluation methods.\n\nLets first load required libraries:"
        },
        {
            "metadata": {
                "button": false,
                "new_sheet": false,
                "run_control": {
                    "read_only": false
                }
            },
            "cell_type": "code",
            "source": "import itertools\nimport numpy as np\nimport matplotlib.pyplot as plt\nfrom matplotlib.ticker import NullFormatter\nimport pandas as pd\nimport numpy as np\nimport matplotlib.ticker as ticker\nfrom sklearn import preprocessing\n%matplotlib inline",
            "execution_count": 276,
            "outputs": []
        },
        {
            "metadata": {
                "button": false,
                "new_sheet": false,
                "run_control": {
                    "read_only": false
                }
            },
            "cell_type": "markdown",
            "source": "### About dataset"
        },
        {
            "metadata": {
                "button": false,
                "new_sheet": false,
                "run_control": {
                    "read_only": false
                }
            },
            "cell_type": "markdown",
            "source": "This dataset is about past loans. The __Loan_train.csv__ data set includes details of 346 customers whose loan are already paid off or defaulted. It includes following fields:\n\n| Field          | Description                                                                           |\n|----------------|---------------------------------------------------------------------------------------|\n| Loan_status    | Whether a loan is paid off on in collection                                           |\n| Principal      | Basic principal loan amount at the                                                    |\n| Terms          | Origination terms which can be weekly (7 days), biweekly, and monthly payoff schedule |\n| Effective_date | When the loan got originated and took effects                                         |\n| Due_date       | Since it\u2019s one-time payoff schedule, each loan has one single due date                |\n| Age            | Age of applicant                                                                      |\n| Education      | Education of applicant                                                                |\n| Gender         | The gender of applicant                                                               |"
        },
        {
            "metadata": {
                "button": false,
                "new_sheet": false,
                "run_control": {
                    "read_only": false
                }
            },
            "cell_type": "markdown",
            "source": "Lets download the dataset"
        },
        {
            "metadata": {
                "button": false,
                "new_sheet": false,
                "run_control": {
                    "read_only": false
                }
            },
            "cell_type": "code",
            "source": "!wget -O loan_train.csv https://s3-api.us-geo.objectstorage.softlayer.net/cf-courses-data/CognitiveClass/ML0101ENv3/labs/loan_train.csv",
            "execution_count": 277,
            "outputs": [
                {
                    "output_type": "stream",
                    "text": "--2021-02-23 05:23:31--  https://s3-api.us-geo.objectstorage.softlayer.net/cf-courses-data/CognitiveClass/ML0101ENv3/labs/loan_train.csv\nResolving s3-api.us-geo.objectstorage.softlayer.net (s3-api.us-geo.objectstorage.softlayer.net)... 67.228.254.196\nConnecting to s3-api.us-geo.objectstorage.softlayer.net (s3-api.us-geo.objectstorage.softlayer.net)|67.228.254.196|:443... connected.\nHTTP request sent, awaiting response... 200 OK\nLength: 23101 (23K) [text/csv]\nSaving to: \u2018loan_train.csv\u2019\n\nloan_train.csv      100%[===================>]  22.56K  --.-KB/s    in 0.001s  \n\n2021-02-23 05:23:31 (15.6 MB/s) - \u2018loan_train.csv\u2019 saved [23101/23101]\n\n",
                    "name": "stdout"
                }
            ]
        },
        {
            "metadata": {
                "button": false,
                "new_sheet": false,
                "run_control": {
                    "read_only": false
                }
            },
            "cell_type": "markdown",
            "source": "### Load Data From CSV File  "
        },
        {
            "metadata": {
                "button": false,
                "new_sheet": false,
                "run_control": {
                    "read_only": false
                }
            },
            "cell_type": "code",
            "source": "df = pd.read_csv('loan_train.csv')\ndf.head()",
            "execution_count": 278,
            "outputs": [
                {
                    "output_type": "execute_result",
                    "execution_count": 278,
                    "data": {
                        "text/plain": "   Unnamed: 0  Unnamed: 0.1 loan_status  Principal  terms effective_date  \\\n0           0             0     PAIDOFF       1000     30       9/8/2016   \n1           2             2     PAIDOFF       1000     30       9/8/2016   \n2           3             3     PAIDOFF       1000     15       9/8/2016   \n3           4             4     PAIDOFF       1000     30       9/9/2016   \n4           6             6     PAIDOFF       1000     30       9/9/2016   \n\n    due_date  age             education  Gender  \n0  10/7/2016   45  High School or Below    male  \n1  10/7/2016   33              Bechalor  female  \n2  9/22/2016   27               college    male  \n3  10/8/2016   28               college  female  \n4  10/8/2016   29               college    male  ",
                        "text/html": "<div>\n<style scoped>\n    .dataframe tbody tr th:only-of-type {\n        vertical-align: middle;\n    }\n\n    .dataframe tbody tr th {\n        vertical-align: top;\n    }\n\n    .dataframe thead th {\n        text-align: right;\n    }\n</style>\n<table border=\"1\" class=\"dataframe\">\n  <thead>\n    <tr style=\"text-align: right;\">\n      <th></th>\n      <th>Unnamed: 0</th>\n      <th>Unnamed: 0.1</th>\n      <th>loan_status</th>\n      <th>Principal</th>\n      <th>terms</th>\n      <th>effective_date</th>\n      <th>due_date</th>\n      <th>age</th>\n      <th>education</th>\n      <th>Gender</th>\n    </tr>\n  </thead>\n  <tbody>\n    <tr>\n      <th>0</th>\n      <td>0</td>\n      <td>0</td>\n      <td>PAIDOFF</td>\n      <td>1000</td>\n      <td>30</td>\n      <td>9/8/2016</td>\n      <td>10/7/2016</td>\n      <td>45</td>\n      <td>High School or Below</td>\n      <td>male</td>\n    </tr>\n    <tr>\n      <th>1</th>\n      <td>2</td>\n      <td>2</td>\n      <td>PAIDOFF</td>\n      <td>1000</td>\n      <td>30</td>\n      <td>9/8/2016</td>\n      <td>10/7/2016</td>\n      <td>33</td>\n      <td>Bechalor</td>\n      <td>female</td>\n    </tr>\n    <tr>\n      <th>2</th>\n      <td>3</td>\n      <td>3</td>\n      <td>PAIDOFF</td>\n      <td>1000</td>\n      <td>15</td>\n      <td>9/8/2016</td>\n      <td>9/22/2016</td>\n      <td>27</td>\n      <td>college</td>\n      <td>male</td>\n    </tr>\n    <tr>\n      <th>3</th>\n      <td>4</td>\n      <td>4</td>\n      <td>PAIDOFF</td>\n      <td>1000</td>\n      <td>30</td>\n      <td>9/9/2016</td>\n      <td>10/8/2016</td>\n      <td>28</td>\n      <td>college</td>\n      <td>female</td>\n    </tr>\n    <tr>\n      <th>4</th>\n      <td>6</td>\n      <td>6</td>\n      <td>PAIDOFF</td>\n      <td>1000</td>\n      <td>30</td>\n      <td>9/9/2016</td>\n      <td>10/8/2016</td>\n      <td>29</td>\n      <td>college</td>\n      <td>male</td>\n    </tr>\n  </tbody>\n</table>\n</div>"
                    },
                    "metadata": {}
                }
            ]
        },
        {
            "metadata": {},
            "cell_type": "code",
            "source": "df.shape",
            "execution_count": 279,
            "outputs": [
                {
                    "output_type": "execute_result",
                    "execution_count": 279,
                    "data": {
                        "text/plain": "(346, 10)"
                    },
                    "metadata": {}
                }
            ]
        },
        {
            "metadata": {
                "button": false,
                "new_sheet": false,
                "run_control": {
                    "read_only": false
                }
            },
            "cell_type": "markdown",
            "source": "### Convert to date time object "
        },
        {
            "metadata": {
                "button": false,
                "new_sheet": false,
                "run_control": {
                    "read_only": false
                }
            },
            "cell_type": "code",
            "source": "df['due_date'] = pd.to_datetime(df['due_date'])\ndf['effective_date'] = pd.to_datetime(df['effective_date'])\ndf.head()",
            "execution_count": 280,
            "outputs": [
                {
                    "output_type": "execute_result",
                    "execution_count": 280,
                    "data": {
                        "text/plain": "   Unnamed: 0  Unnamed: 0.1 loan_status  Principal  terms effective_date  \\\n0           0             0     PAIDOFF       1000     30     2016-09-08   \n1           2             2     PAIDOFF       1000     30     2016-09-08   \n2           3             3     PAIDOFF       1000     15     2016-09-08   \n3           4             4     PAIDOFF       1000     30     2016-09-09   \n4           6             6     PAIDOFF       1000     30     2016-09-09   \n\n    due_date  age             education  Gender  \n0 2016-10-07   45  High School or Below    male  \n1 2016-10-07   33              Bechalor  female  \n2 2016-09-22   27               college    male  \n3 2016-10-08   28               college  female  \n4 2016-10-08   29               college    male  ",
                        "text/html": "<div>\n<style scoped>\n    .dataframe tbody tr th:only-of-type {\n        vertical-align: middle;\n    }\n\n    .dataframe tbody tr th {\n        vertical-align: top;\n    }\n\n    .dataframe thead th {\n        text-align: right;\n    }\n</style>\n<table border=\"1\" class=\"dataframe\">\n  <thead>\n    <tr style=\"text-align: right;\">\n      <th></th>\n      <th>Unnamed: 0</th>\n      <th>Unnamed: 0.1</th>\n      <th>loan_status</th>\n      <th>Principal</th>\n      <th>terms</th>\n      <th>effective_date</th>\n      <th>due_date</th>\n      <th>age</th>\n      <th>education</th>\n      <th>Gender</th>\n    </tr>\n  </thead>\n  <tbody>\n    <tr>\n      <th>0</th>\n      <td>0</td>\n      <td>0</td>\n      <td>PAIDOFF</td>\n      <td>1000</td>\n      <td>30</td>\n      <td>2016-09-08</td>\n      <td>2016-10-07</td>\n      <td>45</td>\n      <td>High School or Below</td>\n      <td>male</td>\n    </tr>\n    <tr>\n      <th>1</th>\n      <td>2</td>\n      <td>2</td>\n      <td>PAIDOFF</td>\n      <td>1000</td>\n      <td>30</td>\n      <td>2016-09-08</td>\n      <td>2016-10-07</td>\n      <td>33</td>\n      <td>Bechalor</td>\n      <td>female</td>\n    </tr>\n    <tr>\n      <th>2</th>\n      <td>3</td>\n      <td>3</td>\n      <td>PAIDOFF</td>\n      <td>1000</td>\n      <td>15</td>\n      <td>2016-09-08</td>\n      <td>2016-09-22</td>\n      <td>27</td>\n      <td>college</td>\n      <td>male</td>\n    </tr>\n    <tr>\n      <th>3</th>\n      <td>4</td>\n      <td>4</td>\n      <td>PAIDOFF</td>\n      <td>1000</td>\n      <td>30</td>\n      <td>2016-09-09</td>\n      <td>2016-10-08</td>\n      <td>28</td>\n      <td>college</td>\n      <td>female</td>\n    </tr>\n    <tr>\n      <th>4</th>\n      <td>6</td>\n      <td>6</td>\n      <td>PAIDOFF</td>\n      <td>1000</td>\n      <td>30</td>\n      <td>2016-09-09</td>\n      <td>2016-10-08</td>\n      <td>29</td>\n      <td>college</td>\n      <td>male</td>\n    </tr>\n  </tbody>\n</table>\n</div>"
                    },
                    "metadata": {}
                }
            ]
        },
        {
            "metadata": {
                "button": false,
                "new_sheet": false,
                "run_control": {
                    "read_only": false
                }
            },
            "cell_type": "markdown",
            "source": "# Data visualization and pre-processing\n\n"
        },
        {
            "metadata": {
                "button": false,
                "new_sheet": false,
                "run_control": {
                    "read_only": false
                }
            },
            "cell_type": "markdown",
            "source": "Let\u2019s see how many of each class is in our data set "
        },
        {
            "metadata": {
                "button": false,
                "new_sheet": false,
                "run_control": {
                    "read_only": false
                }
            },
            "cell_type": "code",
            "source": "df['loan_status'].value_counts()\n# Loan collection = recouvrement",
            "execution_count": 281,
            "outputs": [
                {
                    "output_type": "execute_result",
                    "execution_count": 281,
                    "data": {
                        "text/plain": "PAIDOFF       260\nCOLLECTION     86\nName: loan_status, dtype: int64"
                    },
                    "metadata": {}
                }
            ]
        },
        {
            "metadata": {
                "button": false,
                "new_sheet": false,
                "run_control": {
                    "read_only": false
                }
            },
            "cell_type": "markdown",
            "source": "260 people have paid off the loan on time while 86 have gone into collection \n"
        },
        {
            "metadata": {},
            "cell_type": "markdown",
            "source": "Lets plot some columns to underestand data better:"
        },
        {
            "metadata": {},
            "cell_type": "code",
            "source": "# notice: installing seaborn might takes a few minutes\n# !conda install -c anaconda seaborn -y",
            "execution_count": 282,
            "outputs": []
        },
        {
            "metadata": {},
            "cell_type": "code",
            "source": "import seaborn as sns\n\nbins = np.linspace(df.Principal.min(), df.Principal.max(), 10)\ng = sns.FacetGrid(df, col=\"Gender\", hue=\"loan_status\", palette=\"Set1\", col_wrap=2)\ng.map(plt.hist, 'Principal', bins=bins, ec=\"k\")\n\ng.axes[-1].legend()\nplt.show()",
            "execution_count": 283,
            "outputs": [
                {
                    "output_type": "display_data",
                    "data": {
                        "text/plain": "<Figure size 432x216 with 2 Axes>",
                        "image/png": "[encoded data removed]"
                    },
                    "metadata": {
                        "needs_background": "light"
                    }
                }
            ]
        },
        {
            "metadata": {
                "button": false,
                "new_sheet": false,
                "run_control": {
                    "read_only": false
                }
            },
            "cell_type": "code",
            "source": "bins = np.linspace(df.age.min(), df.age.max(), 10)\ng = sns.FacetGrid(df, col=\"Gender\", hue=\"loan_status\", palette=\"Set1\", col_wrap=2)\ng.map(plt.hist, 'age', bins=bins, ec=\"k\")\n\ng.axes[-1].legend()\nplt.show()",
            "execution_count": 284,
            "outputs": [
                {
                    "output_type": "display_data",
                    "data": {
                        "text/plain": "<Figure size 432x216 with 2 Axes>",
                        "image/png": "[encoded data removed]"
                    },
                    "metadata": {
                        "needs_background": "light"
                    }
                }
            ]
        },
        {
            "metadata": {
                "button": false,
                "new_sheet": false,
                "run_control": {
                    "read_only": false
                }
            },
            "cell_type": "markdown",
            "source": "# Pre-processing:  Feature selection/extraction"
        },
        {
            "metadata": {
                "button": false,
                "new_sheet": false,
                "run_control": {
                    "read_only": false
                }
            },
            "cell_type": "markdown",
            "source": "### Lets look at the day of the week people get the loan "
        },
        {
            "metadata": {
                "button": false,
                "new_sheet": false,
                "run_control": {
                    "read_only": false
                }
            },
            "cell_type": "code",
            "source": "df['dayofweek'] = df['effective_date'].dt.dayofweek\nbins = np.linspace(df.dayofweek.min(), df.dayofweek.max(), 10)\ng = sns.FacetGrid(df, col=\"Gender\", hue=\"loan_status\", palette=\"Set1\", col_wrap=2)\ng.map(plt.hist, 'dayofweek', bins=bins, ec=\"k\")\ng.axes[-1].legend()\nplt.show()\n",
            "execution_count": 285,
            "outputs": [
                {
                    "output_type": "display_data",
                    "data": {
                        "text/plain": "<Figure size 432x216 with 2 Axes>",
                        "image/png": "[encoded data removed]"
                    },
                    "metadata": {
                        "needs_background": "light"
                    }
                }
            ]
        },
        {
            "metadata": {
                "button": false,
                "new_sheet": false,
                "run_control": {
                    "read_only": false
                }
            },
            "cell_type": "markdown",
            "source": "We see that people who get the loan at the end of the week dont pay it off, so lets use Feature binarization to set a threshold values less then day 4 "
        },
        {
            "metadata": {
                "button": false,
                "new_sheet": false,
                "run_control": {
                    "read_only": false
                }
            },
            "cell_type": "code",
            "source": "df['weekend'] = df['dayofweek'].apply(lambda x: 1 if (x>3)  else 0)\ndf.head()",
            "execution_count": 286,
            "outputs": [
                {
                    "output_type": "execute_result",
                    "execution_count": 286,
                    "data": {
                        "text/plain": "   Unnamed: 0  Unnamed: 0.1 loan_status  Principal  terms effective_date  \\\n0           0             0     PAIDOFF       1000     30     2016-09-08   \n1           2             2     PAIDOFF       1000     30     2016-09-08   \n2           3             3     PAIDOFF       1000     15     2016-09-08   \n3           4             4     PAIDOFF       1000     30     2016-09-09   \n4           6             6     PAIDOFF       1000     30     2016-09-09   \n\n    due_date  age             education  Gender  dayofweek  weekend  \n0 2016-10-07   45  High School or Below    male          3        0  \n1 2016-10-07   33              Bechalor  female          3        0  \n2 2016-09-22   27               college    male          3        0  \n3 2016-10-08   28               college  female          4        1  \n4 2016-10-08   29               college    male          4        1  ",
                        "text/html": "<div>\n<style scoped>\n    .dataframe tbody tr th:only-of-type {\n        vertical-align: middle;\n    }\n\n    .dataframe tbody tr th {\n        vertical-align: top;\n    }\n\n    .dataframe thead th {\n        text-align: right;\n    }\n</style>\n<table border=\"1\" class=\"dataframe\">\n  <thead>\n    <tr style=\"text-align: right;\">\n      <th></th>\n      <th>Unnamed: 0</th>\n      <th>Unnamed: 0.1</th>\n      <th>loan_status</th>\n      <th>Principal</th>\n      <th>terms</th>\n      <th>effective_date</th>\n      <th>due_date</th>\n      <th>age</th>\n      <th>education</th>\n      <th>Gender</th>\n      <th>dayofweek</th>\n      <th>weekend</th>\n    </tr>\n  </thead>\n  <tbody>\n    <tr>\n      <th>0</th>\n      <td>0</td>\n      <td>0</td>\n      <td>PAIDOFF</td>\n      <td>1000</td>\n      <td>30</td>\n      <td>2016-09-08</td>\n      <td>2016-10-07</td>\n      <td>45</td>\n      <td>High School or Below</td>\n      <td>male</td>\n      <td>3</td>\n      <td>0</td>\n    </tr>\n    <tr>\n      <th>1</th>\n      <td>2</td>\n      <td>2</td>\n      <td>PAIDOFF</td>\n      <td>1000</td>\n      <td>30</td>\n      <td>2016-09-08</td>\n      <td>2016-10-07</td>\n      <td>33</td>\n      <td>Bechalor</td>\n      <td>female</td>\n      <td>3</td>\n      <td>0</td>\n    </tr>\n    <tr>\n      <th>2</th>\n      <td>3</td>\n      <td>3</td>\n      <td>PAIDOFF</td>\n      <td>1000</td>\n      <td>15</td>\n      <td>2016-09-08</td>\n      <td>2016-09-22</td>\n      <td>27</td>\n      <td>college</td>\n      <td>male</td>\n      <td>3</td>\n      <td>0</td>\n    </tr>\n    <tr>\n      <th>3</th>\n      <td>4</td>\n      <td>4</td>\n      <td>PAIDOFF</td>\n      <td>1000</td>\n      <td>30</td>\n      <td>2016-09-09</td>\n      <td>2016-10-08</td>\n      <td>28</td>\n      <td>college</td>\n      <td>female</td>\n      <td>4</td>\n      <td>1</td>\n    </tr>\n    <tr>\n      <th>4</th>\n      <td>6</td>\n      <td>6</td>\n      <td>PAIDOFF</td>\n      <td>1000</td>\n      <td>30</td>\n      <td>2016-09-09</td>\n      <td>2016-10-08</td>\n      <td>29</td>\n      <td>college</td>\n      <td>male</td>\n      <td>4</td>\n      <td>1</td>\n    </tr>\n  </tbody>\n</table>\n</div>"
                    },
                    "metadata": {}
                }
            ]
        },
        {
            "metadata": {
                "button": false,
                "new_sheet": false,
                "run_control": {
                    "read_only": false
                }
            },
            "cell_type": "markdown",
            "source": "## Convert Categorical features to numerical values"
        },
        {
            "metadata": {
                "button": false,
                "new_sheet": false,
                "run_control": {
                    "read_only": false
                }
            },
            "cell_type": "markdown",
            "source": "Lets look at gender:"
        },
        {
            "metadata": {
                "button": false,
                "new_sheet": false,
                "run_control": {
                    "read_only": false
                }
            },
            "cell_type": "code",
            "source": "df.groupby(['Gender'])['loan_status'].value_counts(normalize=True)",
            "execution_count": 287,
            "outputs": [
                {
                    "output_type": "execute_result",
                    "execution_count": 287,
                    "data": {
                        "text/plain": "Gender  loan_status\nfemale  PAIDOFF        0.865385\n        COLLECTION     0.134615\nmale    PAIDOFF        0.731293\n        COLLECTION     0.268707\nName: loan_status, dtype: float64"
                    },
                    "metadata": {}
                }
            ]
        },
        {
            "metadata": {
                "button": false,
                "new_sheet": false,
                "run_control": {
                    "read_only": false
                }
            },
            "cell_type": "markdown",
            "source": "86 % of female pay there loans while only 73 % of males pay there loan\n"
        },
        {
            "metadata": {
                "button": false,
                "new_sheet": false,
                "run_control": {
                    "read_only": false
                }
            },
            "cell_type": "markdown",
            "source": "Lets convert male to 0 and female to 1:\n"
        },
        {
            "metadata": {
                "button": false,
                "new_sheet": false,
                "run_control": {
                    "read_only": false
                }
            },
            "cell_type": "code",
            "source": "df['Gender'].replace(to_replace=['male','female'], value=[0,1],inplace=True)\ndf.head()",
            "execution_count": 288,
            "outputs": [
                {
                    "output_type": "execute_result",
                    "execution_count": 288,
                    "data": {
                        "text/plain": "   Unnamed: 0  Unnamed: 0.1 loan_status  Principal  terms effective_date  \\\n0           0             0     PAIDOFF       1000     30     2016-09-08   \n1           2             2     PAIDOFF       1000     30     2016-09-08   \n2           3             3     PAIDOFF       1000     15     2016-09-08   \n3           4             4     PAIDOFF       1000     30     2016-09-09   \n4           6             6     PAIDOFF       1000     30     2016-09-09   \n\n    due_date  age             education  Gender  dayofweek  weekend  \n0 2016-10-07   45  High School or Below       0          3        0  \n1 2016-10-07   33              Bechalor       1          3        0  \n2 2016-09-22   27               college       0          3        0  \n3 2016-10-08   28               college       1          4        1  \n4 2016-10-08   29               college       0          4        1  ",
                        "text/html": "<div>\n<style scoped>\n    .dataframe tbody tr th:only-of-type {\n        vertical-align: middle;\n    }\n\n    .dataframe tbody tr th {\n        vertical-align: top;\n    }\n\n    .dataframe thead th {\n        text-align: right;\n    }\n</style>\n<table border=\"1\" class=\"dataframe\">\n  <thead>\n    <tr style=\"text-align: right;\">\n      <th></th>\n      <th>Unnamed: 0</th>\n      <th>Unnamed: 0.1</th>\n      <th>loan_status</th>\n      <th>Principal</th>\n      <th>terms</th>\n      <th>effective_date</th>\n      <th>due_date</th>\n      <th>age</th>\n      <th>education</th>\n      <th>Gender</th>\n      <th>dayofweek</th>\n      <th>weekend</th>\n    </tr>\n  </thead>\n  <tbody>\n    <tr>\n      <th>0</th>\n      <td>0</td>\n      <td>0</td>\n      <td>PAIDOFF</td>\n      <td>1000</td>\n      <td>30</td>\n      <td>2016-09-08</td>\n      <td>2016-10-07</td>\n      <td>45</td>\n      <td>High School or Below</td>\n      <td>0</td>\n      <td>3</td>\n      <td>0</td>\n    </tr>\n    <tr>\n      <th>1</th>\n      <td>2</td>\n      <td>2</td>\n      <td>PAIDOFF</td>\n      <td>1000</td>\n      <td>30</td>\n      <td>2016-09-08</td>\n      <td>2016-10-07</td>\n      <td>33</td>\n      <td>Bechalor</td>\n      <td>1</td>\n      <td>3</td>\n      <td>0</td>\n    </tr>\n    <tr>\n      <th>2</th>\n      <td>3</td>\n      <td>3</td>\n      <td>PAIDOFF</td>\n      <td>1000</td>\n      <td>15</td>\n      <td>2016-09-08</td>\n      <td>2016-09-22</td>\n      <td>27</td>\n      <td>college</td>\n      <td>0</td>\n      <td>3</td>\n      <td>0</td>\n    </tr>\n    <tr>\n      <th>3</th>\n      <td>4</td>\n      <td>4</td>\n      <td>PAIDOFF</td>\n      <td>1000</td>\n      <td>30</td>\n      <td>2016-09-09</td>\n      <td>2016-10-08</td>\n      <td>28</td>\n      <td>college</td>\n      <td>1</td>\n      <td>4</td>\n      <td>1</td>\n    </tr>\n    <tr>\n      <th>4</th>\n      <td>6</td>\n      <td>6</td>\n      <td>PAIDOFF</td>\n      <td>1000</td>\n      <td>30</td>\n      <td>2016-09-09</td>\n      <td>2016-10-08</td>\n      <td>29</td>\n      <td>college</td>\n      <td>0</td>\n      <td>4</td>\n      <td>1</td>\n    </tr>\n  </tbody>\n</table>\n</div>"
                    },
                    "metadata": {}
                }
            ]
        },
        {
            "metadata": {
                "button": false,
                "new_sheet": false,
                "run_control": {
                    "read_only": false
                }
            },
            "cell_type": "markdown",
            "source": "## One Hot Encoding  \n#### How about education?"
        },
        {
            "metadata": {
                "button": false,
                "new_sheet": false,
                "run_control": {
                    "read_only": false
                }
            },
            "cell_type": "code",
            "source": "df.groupby(['education'])['loan_status'].value_counts(normalize=True)",
            "execution_count": 289,
            "outputs": [
                {
                    "output_type": "execute_result",
                    "execution_count": 289,
                    "data": {
                        "text/plain": "education             loan_status\nBechalor              PAIDOFF        0.750000\n                      COLLECTION     0.250000\nHigh School or Below  PAIDOFF        0.741722\n                      COLLECTION     0.258278\nMaster or Above       COLLECTION     0.500000\n                      PAIDOFF        0.500000\ncollege               PAIDOFF        0.765101\n                      COLLECTION     0.234899\nName: loan_status, dtype: float64"
                    },
                    "metadata": {}
                }
            ]
        },
        {
            "metadata": {
                "button": false,
                "new_sheet": false,
                "run_control": {
                    "read_only": false
                }
            },
            "cell_type": "markdown",
            "source": "#### Feature befor One Hot Encoding"
        },
        {
            "metadata": {
                "button": false,
                "new_sheet": false,
                "run_control": {
                    "read_only": false
                }
            },
            "cell_type": "code",
            "source": "df[['Principal','terms','age','Gender','education']].head()",
            "execution_count": 290,
            "outputs": [
                {
                    "output_type": "execute_result",
                    "execution_count": 290,
                    "data": {
                        "text/plain": "   Principal  terms  age  Gender             education\n0       1000     30   45       0  High School or Below\n1       1000     30   33       1              Bechalor\n2       1000     15   27       0               college\n3       1000     30   28       1               college\n4       1000     30   29       0               college",
                        "text/html": "<div>\n<style scoped>\n    .dataframe tbody tr th:only-of-type {\n        vertical-align: middle;\n    }\n\n    .dataframe tbody tr th {\n        vertical-align: top;\n    }\n\n    .dataframe thead th {\n        text-align: right;\n    }\n</style>\n<table border=\"1\" class=\"dataframe\">\n  <thead>\n    <tr style=\"text-align: right;\">\n      <th></th>\n      <th>Principal</th>\n      <th>terms</th>\n      <th>age</th>\n      <th>Gender</th>\n      <th>education</th>\n    </tr>\n  </thead>\n  <tbody>\n    <tr>\n      <th>0</th>\n      <td>1000</td>\n      <td>30</td>\n      <td>45</td>\n      <td>0</td>\n      <td>High School or Below</td>\n    </tr>\n    <tr>\n      <th>1</th>\n      <td>1000</td>\n      <td>30</td>\n      <td>33</td>\n      <td>1</td>\n      <td>Bechalor</td>\n    </tr>\n    <tr>\n      <th>2</th>\n      <td>1000</td>\n      <td>15</td>\n      <td>27</td>\n      <td>0</td>\n      <td>college</td>\n    </tr>\n    <tr>\n      <th>3</th>\n      <td>1000</td>\n      <td>30</td>\n      <td>28</td>\n      <td>1</td>\n      <td>college</td>\n    </tr>\n    <tr>\n      <th>4</th>\n      <td>1000</td>\n      <td>30</td>\n      <td>29</td>\n      <td>0</td>\n      <td>college</td>\n    </tr>\n  </tbody>\n</table>\n</div>"
                    },
                    "metadata": {}
                }
            ]
        },
        {
            "metadata": {
                "button": false,
                "new_sheet": false,
                "run_control": {
                    "read_only": false
                }
            },
            "cell_type": "markdown",
            "source": "#### Use one hot encoding technique to conver categorical varables to binary variables and append them to the feature Data Frame "
        },
        {
            "metadata": {
                "button": false,
                "new_sheet": false,
                "run_control": {
                    "read_only": false
                }
            },
            "cell_type": "code",
            "source": "Feature = df[['Principal','terms','age','Gender','weekend']]\nFeature = pd.concat([Feature,pd.get_dummies(df['education'])], axis=1)\nFeature.drop(['Master or Above'], axis = 1,inplace=True)\nFeature.head()\n",
            "execution_count": 291,
            "outputs": [
                {
                    "output_type": "execute_result",
                    "execution_count": 291,
                    "data": {
                        "text/plain": "   Principal  terms  age  Gender  weekend  Bechalor  High School or Below  \\\n0       1000     30   45       0        0         0                     1   \n1       1000     30   33       1        0         1                     0   \n2       1000     15   27       0        0         0                     0   \n3       1000     30   28       1        1         0                     0   \n4       1000     30   29       0        1         0                     0   \n\n   college  \n0        0  \n1        0  \n2        1  \n3        1  \n4        1  ",
                        "text/html": "<div>\n<style scoped>\n    .dataframe tbody tr th:only-of-type {\n        vertical-align: middle;\n    }\n\n    .dataframe tbody tr th {\n        vertical-align: top;\n    }\n\n    .dataframe thead th {\n        text-align: right;\n    }\n</style>\n<table border=\"1\" class=\"dataframe\">\n  <thead>\n    <tr style=\"text-align: right;\">\n      <th></th>\n      <th>Principal</th>\n      <th>terms</th>\n      <th>age</th>\n      <th>Gender</th>\n      <th>weekend</th>\n      <th>Bechalor</th>\n      <th>High School or Below</th>\n      <th>college</th>\n    </tr>\n  </thead>\n  <tbody>\n    <tr>\n      <th>0</th>\n      <td>1000</td>\n      <td>30</td>\n      <td>45</td>\n      <td>0</td>\n      <td>0</td>\n      <td>0</td>\n      <td>1</td>\n      <td>0</td>\n    </tr>\n    <tr>\n      <th>1</th>\n      <td>1000</td>\n      <td>30</td>\n      <td>33</td>\n      <td>1</td>\n      <td>0</td>\n      <td>1</td>\n      <td>0</td>\n      <td>0</td>\n    </tr>\n    <tr>\n      <th>2</th>\n      <td>1000</td>\n      <td>15</td>\n      <td>27</td>\n      <td>0</td>\n      <td>0</td>\n      <td>0</td>\n      <td>0</td>\n      <td>1</td>\n    </tr>\n    <tr>\n      <th>3</th>\n      <td>1000</td>\n      <td>30</td>\n      <td>28</td>\n      <td>1</td>\n      <td>1</td>\n      <td>0</td>\n      <td>0</td>\n      <td>1</td>\n    </tr>\n    <tr>\n      <th>4</th>\n      <td>1000</td>\n      <td>30</td>\n      <td>29</td>\n      <td>0</td>\n      <td>1</td>\n      <td>0</td>\n      <td>0</td>\n      <td>1</td>\n    </tr>\n  </tbody>\n</table>\n</div>"
                    },
                    "metadata": {}
                }
            ]
        },
        {
            "metadata": {
                "button": false,
                "new_sheet": false,
                "run_control": {
                    "read_only": false
                }
            },
            "cell_type": "markdown",
            "source": "### Feature selection"
        },
        {
            "metadata": {
                "button": false,
                "new_sheet": false,
                "run_control": {
                    "read_only": false
                }
            },
            "cell_type": "markdown",
            "source": "Lets defind feature sets, X:"
        },
        {
            "metadata": {
                "button": false,
                "new_sheet": false,
                "run_control": {
                    "read_only": false
                }
            },
            "cell_type": "code",
            "source": "X = Feature\nX[0:5]",
            "execution_count": 292,
            "outputs": [
                {
                    "output_type": "execute_result",
                    "execution_count": 292,
                    "data": {
                        "text/plain": "   Principal  terms  age  Gender  weekend  Bechalor  High School or Below  \\\n0       1000     30   45       0        0         0                     1   \n1       1000     30   33       1        0         1                     0   \n2       1000     15   27       0        0         0                     0   \n3       1000     30   28       1        1         0                     0   \n4       1000     30   29       0        1         0                     0   \n\n   college  \n0        0  \n1        0  \n2        1  \n3        1  \n4        1  ",
                        "text/html": "<div>\n<style scoped>\n    .dataframe tbody tr th:only-of-type {\n        vertical-align: middle;\n    }\n\n    .dataframe tbody tr th {\n        vertical-align: top;\n    }\n\n    .dataframe thead th {\n        text-align: right;\n    }\n</style>\n<table border=\"1\" class=\"dataframe\">\n  <thead>\n    <tr style=\"text-align: right;\">\n      <th></th>\n      <th>Principal</th>\n      <th>terms</th>\n      <th>age</th>\n      <th>Gender</th>\n      <th>weekend</th>\n      <th>Bechalor</th>\n      <th>High School or Below</th>\n      <th>college</th>\n    </tr>\n  </thead>\n  <tbody>\n    <tr>\n      <th>0</th>\n      <td>1000</td>\n      <td>30</td>\n      <td>45</td>\n      <td>0</td>\n      <td>0</td>\n      <td>0</td>\n      <td>1</td>\n      <td>0</td>\n    </tr>\n    <tr>\n      <th>1</th>\n      <td>1000</td>\n      <td>30</td>\n      <td>33</td>\n      <td>1</td>\n      <td>0</td>\n      <td>1</td>\n      <td>0</td>\n      <td>0</td>\n    </tr>\n    <tr>\n      <th>2</th>\n      <td>1000</td>\n      <td>15</td>\n      <td>27</td>\n      <td>0</td>\n      <td>0</td>\n      <td>0</td>\n      <td>0</td>\n      <td>1</td>\n    </tr>\n    <tr>\n      <th>3</th>\n      <td>1000</td>\n      <td>30</td>\n      <td>28</td>\n      <td>1</td>\n      <td>1</td>\n      <td>0</td>\n      <td>0</td>\n      <td>1</td>\n    </tr>\n    <tr>\n      <th>4</th>\n      <td>1000</td>\n      <td>30</td>\n      <td>29</td>\n      <td>0</td>\n      <td>1</td>\n      <td>0</td>\n      <td>0</td>\n      <td>1</td>\n    </tr>\n  </tbody>\n</table>\n</div>"
                    },
                    "metadata": {}
                }
            ]
        },
        {
            "metadata": {
                "button": false,
                "new_sheet": false,
                "run_control": {
                    "read_only": false
                }
            },
            "cell_type": "markdown",
            "source": "What are our lables?"
        },
        {
            "metadata": {
                "button": false,
                "new_sheet": false,
                "run_control": {
                    "read_only": false
                }
            },
            "cell_type": "code",
            "source": "y = df['loan_status'].values\ny[0:5]",
            "execution_count": 293,
            "outputs": [
                {
                    "output_type": "execute_result",
                    "execution_count": 293,
                    "data": {
                        "text/plain": "array(['PAIDOFF', 'PAIDOFF', 'PAIDOFF', 'PAIDOFF', 'PAIDOFF'],\n      dtype=object)"
                    },
                    "metadata": {}
                }
            ]
        },
        {
            "metadata": {
                "button": false,
                "new_sheet": false,
                "run_control": {
                    "read_only": false
                }
            },
            "cell_type": "markdown",
            "source": "## Normalize Data "
        },
        {
            "metadata": {
                "button": false,
                "new_sheet": false,
                "run_control": {
                    "read_only": false
                }
            },
            "cell_type": "markdown",
            "source": "Data Standardization give data zero mean and unit variance (technically should be done after train test split )"
        },
        {
            "metadata": {
                "button": false,
                "new_sheet": false,
                "run_control": {
                    "read_only": false
                }
            },
            "cell_type": "code",
            "source": "X= preprocessing.StandardScaler().fit(X).transform(X)\nX[0:5]",
            "execution_count": 294,
            "outputs": [
                {
                    "output_type": "execute_result",
                    "execution_count": 294,
                    "data": {
                        "text/plain": "array([[ 0.51578458,  0.92071769,  2.33152555, -0.42056004, -1.20577805,\n        -0.38170062,  1.13639374, -0.86968108],\n       [ 0.51578458,  0.92071769,  0.34170148,  2.37778177, -1.20577805,\n         2.61985426, -0.87997669, -0.86968108],\n       [ 0.51578458, -0.95911111, -0.65321055, -0.42056004, -1.20577805,\n        -0.38170062, -0.87997669,  1.14984679],\n       [ 0.51578458,  0.92071769, -0.48739188,  2.37778177,  0.82934003,\n        -0.38170062, -0.87997669,  1.14984679],\n       [ 0.51578458,  0.92071769, -0.3215732 , -0.42056004,  0.82934003,\n        -0.38170062, -0.87997669,  1.14984679]])"
                    },
                    "metadata": {}
                }
            ]
        },
        {
            "metadata": {
                "button": false,
                "new_sheet": false,
                "run_control": {
                    "read_only": false
                }
            },
            "cell_type": "markdown",
            "source": "# Classification "
        },
        {
            "metadata": {
                "button": false,
                "new_sheet": false,
                "run_control": {
                    "read_only": false
                }
            },
            "cell_type": "markdown",
            "source": "Now, it is your turn, use the training set to build an accurate model. Then use the test set to report the accuracy of the model\nYou should use the following algorithm:\n- K Nearest Neighbor(KNN)\n- Decision Tree\n- Support Vector Machine\n- Logistic Regression\n\n\n\n__ Notice:__ \n- You can go above and change the pre-processing, feature selection, feature-extraction, and so on, to make a better model.\n- You should use either scikit-learn, Scipy or Numpy libraries for developing the classification algorithms.\n- You should include the code of the algorithm in the following cells."
        },
        {
            "metadata": {},
            "cell_type": "markdown",
            "source": "# K Nearest Neighbor(KNN)\nNotice: You should find the best k to build the model with the best accuracy.  \n**warning:** You should not use the __loan_test.csv__ for finding the best k, however, you can split your train_loan.csv into train and test to find the best __k__."
        },
        {
            "metadata": {},
            "cell_type": "markdown",
            "source": "## Install scikit-learn"
        },
        {
            "metadata": {},
            "cell_type": "code",
            "source": "# !pip install scikit-learn==0.23.1",
            "execution_count": 295,
            "outputs": []
        },
        {
            "metadata": {},
            "cell_type": "markdown",
            "source": "## Prepare Train and Test set for all models\nrandom_state allows to generate allways the same train / test sets\ntest_size is the percentage of cases used in the test set, here 30 %"
        },
        {
            "metadata": {},
            "cell_type": "code",
            "source": "from sklearn.model_selection import train_test_split\nX_train, X_test, y_train, y_test = train_test_split(X, y, test_size=0.2, random_state=2)",
            "execution_count": 296,
            "outputs": []
        },
        {
            "metadata": {},
            "cell_type": "markdown",
            "source": "## Check data in X_train, y_train, X_test, y_test"
        },
        {
            "metadata": {},
            "cell_type": "code",
            "source": "print(X_train[0:5])\nprint(y_train[0:5])\nprint(X_test[0:5])\nprint(y_test[0:5])",
            "execution_count": 297,
            "outputs": [
                {
                    "output_type": "stream",
                    "text": "[[ 0.51578458 -1.96168647  0.01006414 -0.42056004 -1.20577805 -0.38170062\n  -0.87997669  1.14984679]\n [-1.31458942 -0.95911111 -0.65321055 -0.42056004 -1.20577805 -0.38170062\n  -0.87997669  1.14984679]\n [-1.31458942 -0.95911111  1.83406953 -0.42056004 -1.20577805 -0.38170062\n  -0.87997669  1.14984679]\n [-1.31458942 -0.95911111 -1.48230391 -0.42056004  0.82934003 -0.38170062\n  -0.87997669  1.14984679]\n [-1.31458942 -0.95911111  1.33661351 -0.42056004 -1.20577805 -0.38170062\n   1.13639374 -0.86968108]]\n['PAIDOFF' 'PAIDOFF' 'PAIDOFF' 'COLLECTION' 'PAIDOFF']\n[[ 0.51578458 -1.96168647 -0.98484789 -0.42056004  0.82934003 -0.38170062\n  -0.87997669  1.14984679]\n [ 0.51578458 -0.95911111 -0.15575453 -0.42056004  0.82934003  2.61985426\n  -0.87997669 -0.86968108]\n [ 0.51578458 -0.95911111 -0.81902922 -0.42056004  0.82934003 -0.38170062\n  -0.87997669  1.14984679]\n [ 0.51578458  0.92071769  0.50752015 -0.42056004  0.82934003 -0.38170062\n  -0.87997669  1.14984679]\n [ 0.51578458  0.92071769  0.8391575  -0.42056004 -1.20577805 -0.38170062\n   1.13639374 -0.86968108]]\n['PAIDOFF' 'COLLECTION' 'PAIDOFF' 'PAIDOFF' 'PAIDOFF']\n",
                    "name": "stdout"
                }
            ]
        },
        {
            "metadata": {},
            "cell_type": "markdown",
            "source": "## Let's play with KNN : "
        },
        {
            "metadata": {},
            "cell_type": "code",
            "source": "# We'll try 15 K values, to test from 1 to 15 neighbors analysed\nfrom sklearn.neighbors import KNeighborsClassifier\nfrom sklearn.metrics import jaccard_score\nfrom sklearn.metrics import f1_score\n\nKs = range(1, 15)\nknn_mean_acc = []\nknn_std_acc = []\nknn_mean_acc_graph = []\n\nfor n in Ks:\n    knn_model = KNeighborsClassifier(n_neighbors = n)\n    knn_model.fit(X_train, y_train)\n    knn_yhat = knn_model.predict(X_test)\n    knn_mean_acc.append([n, metrics.accuracy_score(y_test, knn_yhat)])\n    knn_mean_acc_graph.append(metrics.accuracy_score(y_test, knn_yhat))\n    knn_std_acc.append(np.std(knn_yhat==y_test)/np.sqrt(knn_yhat.shape[0]))\n\nprint(knn_mean_acc)",
            "execution_count": 298,
            "outputs": [
                {
                    "output_type": "stream",
                    "text": "[[1, 0.6428571428571429], [2, 0.5571428571428572], [3, 0.7142857142857143], [4, 0.6285714285714286], [5, 0.7571428571428571], [6, 0.6571428571428571], [7, 0.7571428571428571], [8, 0.7142857142857143], [9, 0.7], [10, 0.6857142857142857], [11, 0.7285714285714285], [12, 0.6714285714285714], [13, 0.7142857142857143], [14, 0.7]]\n",
                    "name": "stdout"
                }
            ]
        },
        {
            "metadata": {},
            "cell_type": "code",
            "source": "for i in range(0, len(knn_mean_acc)):\n    print(\"k = {} has a Score = {} \".format(i+1, knn_mean_acc_graph[i]))",
            "execution_count": 299,
            "outputs": [
                {
                    "output_type": "stream",
                    "text": "k = 1 has a Score = 0.6428571428571429 \nk = 2 has a Score = 0.5571428571428572 \nk = 3 has a Score = 0.7142857142857143 \nk = 4 has a Score = 0.6285714285714286 \nk = 5 has a Score = 0.7571428571428571 \nk = 6 has a Score = 0.6571428571428571 \nk = 7 has a Score = 0.7571428571428571 \nk = 8 has a Score = 0.7142857142857143 \nk = 9 has a Score = 0.7 \nk = 10 has a Score = 0.6857142857142857 \nk = 11 has a Score = 0.7285714285714285 \nk = 12 has a Score = 0.6714285714285714 \nk = 13 has a Score = 0.7142857142857143 \nk = 14 has a Score = 0.7 \n",
                    "name": "stdout"
                }
            ]
        },
        {
            "metadata": {},
            "cell_type": "markdown",
            "source": "## Then we print the graph for K between 1 and 15 to find the best accuracy"
        },
        {
            "metadata": {},
            "cell_type": "code",
            "source": "#Find best model\n#By graph : \nplt.plot(Ks, knn_mean_acc_graph)\nplt.xlabel('Values of K')\nplt.ylabel('Testing Accuracy Values')\n#By value :\nprint(knn_mean_acc_graph)\nt = knn_mean_acc_graph.index(max(knn_mean_acc_graph))\nprint(\"Meilleur k : \", knn_mean_acc[t][0], \" Score : \", knn_mean_acc[t][1])",
            "execution_count": 300,
            "outputs": [
                {
                    "output_type": "stream",
                    "text": "[0.6428571428571429, 0.5571428571428572, 0.7142857142857143, 0.6285714285714286, 0.7571428571428571, 0.6571428571428571, 0.7571428571428571, 0.7142857142857143, 0.7, 0.6857142857142857, 0.7285714285714285, 0.6714285714285714, 0.7142857142857143, 0.7]\nMeilleur k :  5  Score :  0.7571428571428571\n",
                    "name": "stdout"
                },
                {
                    "output_type": "display_data",
                    "data": {
                        "text/plain": "<Figure size 432x288 with 1 Axes>",
                        "image/png": "[encoded data removed]"
                    },
                    "metadata": {
                        "needs_background": "light"
                    }
                }
            ]
        },
        {
            "metadata": {},
            "cell_type": "code",
            "source": "# We found 5 as best K value\n# Generate knn_yhat with this parameter : \nn = knn_mean_acc[t][0]\n\nknn_model = KNeighborsClassifier(n_neighbors = n)\nknn_model.fit(X_train,y_train)\nknn_yhat = knn_model.predict(X_test)\n\nprint(knn_model)",
            "execution_count": 301,
            "outputs": [
                {
                    "output_type": "stream",
                    "text": "KNeighborsClassifier()\n",
                    "name": "stdout"
                }
            ]
        },
        {
            "metadata": {},
            "cell_type": "markdown",
            "source": "# Decision Tree"
        },
        {
            "metadata": {},
            "cell_type": "code",
            "source": "# Libraries\nfrom sklearn.tree import DecisionTreeClassifier \nfrom sklearn.metrics import jaccard_score\nfrom sklearn.metrics import f1_score",
            "execution_count": 302,
            "outputs": []
        },
        {
            "metadata": {},
            "cell_type": "code",
            "source": "depth_range = range(1, 10)\n\ndt_jaccard_score = []\ndt_f1_score = []\n\nfor d in depth_range:\n    dt_model = DecisionTreeClassifier(criterion = 'entropy', max_depth = d)\n    dt_model.fit(X_train, y_train)\n    dt_yhat = dt_model.predict(X_test)\n    dt_jaccard_score.append(jaccard_score(y_test, dt_yhat,pos_label = \"PAIDOFF\"))\n    dt_f1_score.append(f1_score(y_test, dt_yhat, average='weighted'))\n",
            "execution_count": 303,
            "outputs": []
        },
        {
            "metadata": {},
            "cell_type": "code",
            "source": "result = pd.DataFrame([dt_jaccard_score, dt_f1_score], index = ['Jaccard', 'F1'], columns = range(1,10))\nresult.columns.name = 'Analyse'\nresult",
            "execution_count": 304,
            "outputs": [
                {
                    "output_type": "execute_result",
                    "execution_count": 304,
                    "data": {
                        "text/plain": "Analyse         1         2         3         4         5         6         7  \\\nJaccard  0.828571  0.828571  0.800000  0.695652  0.637681  0.666667  0.701493   \nF1       0.750893  0.750893  0.736508  0.694760  0.657958  0.676571  0.722768   \n\nAnalyse         8         9  \nJaccard  0.701493  0.731343  \nF1       0.722768  0.742857  ",
                        "text/html": "<div>\n<style scoped>\n    .dataframe tbody tr th:only-of-type {\n        vertical-align: middle;\n    }\n\n    .dataframe tbody tr th {\n        vertical-align: top;\n    }\n\n    .dataframe thead th {\n        text-align: right;\n    }\n</style>\n<table border=\"1\" class=\"dataframe\">\n  <thead>\n    <tr style=\"text-align: right;\">\n      <th>Analyse</th>\n      <th>1</th>\n      <th>2</th>\n      <th>3</th>\n      <th>4</th>\n      <th>5</th>\n      <th>6</th>\n      <th>7</th>\n      <th>8</th>\n      <th>9</th>\n    </tr>\n  </thead>\n  <tbody>\n    <tr>\n      <th>Jaccard</th>\n      <td>0.828571</td>\n      <td>0.828571</td>\n      <td>0.800000</td>\n      <td>0.695652</td>\n      <td>0.637681</td>\n      <td>0.666667</td>\n      <td>0.701493</td>\n      <td>0.701493</td>\n      <td>0.731343</td>\n    </tr>\n    <tr>\n      <th>F1</th>\n      <td>0.750893</td>\n      <td>0.750893</td>\n      <td>0.736508</td>\n      <td>0.694760</td>\n      <td>0.657958</td>\n      <td>0.676571</td>\n      <td>0.722768</td>\n      <td>0.722768</td>\n      <td>0.742857</td>\n    </tr>\n  </tbody>\n</table>\n</div>"
                    },
                    "metadata": {}
                }
            ]
        },
        {
            "metadata": {},
            "cell_type": "code",
            "source": "#Find best model\n#print(result.shape)\nprint(\"Best score : \", max(result.iloc[0]), \"depth = \", result.iloc[0].idxmax(axis=0))\nbs = result.iloc[0].idxmax(axis=0)",
            "execution_count": 305,
            "outputs": [
                {
                    "output_type": "stream",
                    "text": "Best score :  0.8285714285714286 depth =  1\n",
                    "name": "stdout"
                }
            ]
        },
        {
            "metadata": {},
            "cell_type": "code",
            "source": "dt_model = DecisionTreeClassifier(criterion = 'entropy', max_depth = bs)\ndt_model.fit(X_train, y_train)\ndt_model",
            "execution_count": 306,
            "outputs": [
                {
                    "output_type": "execute_result",
                    "execution_count": 306,
                    "data": {
                        "text/plain": "DecisionTreeClassifier(criterion='entropy', max_depth=1)"
                    },
                    "metadata": {}
                }
            ]
        },
        {
            "metadata": {},
            "cell_type": "markdown",
            "source": "# Support Vector Machine"
        },
        {
            "metadata": {},
            "cell_type": "code",
            "source": "from sklearn.svm import SVC\nfrom sklearn.metrics import jaccard_score\nfrom sklearn.metrics import f1_score\n\nimport matplotlib.pyplot as plt\n%matplotlib inline",
            "execution_count": 307,
            "outputs": []
        },
        {
            "metadata": {},
            "cell_type": "code",
            "source": "kernel_func = ['sigmoid', 'poly', 'rbf', 'linear']\nC_list = [0.01, 0.03, 0.1, 0.3, 1, 3]\naccuracy_score = []\naccuracy_score_data = []\n\nfor k in kernel_func:\n    for c in C_list:\n        svc_model = SVC(C = c, gamma = 'auto', kernel = k)\n        svc_model.fit(X_train, y_train)\n        svc_yhat = svc_model.predict(X_test)\n        accuracy_score.append(f1_score(y_test, svc_yhat, average = 'weighted'))\n        accuracy_score_data.append([k, c])\n        print(\"Fonction : \", k, \", c = \", c, \", Score = \", f1_score(y_test, svc_yhat, average = 'weighted'))\n",
            "execution_count": 308,
            "outputs": [
                {
                    "output_type": "stream",
                    "text": "Fonction :  sigmoid , c =  0.01 , Score =  0.7508928571428571\nFonction :  sigmoid , c =  0.03 , Score =  0.7508928571428571\nFonction :  sigmoid , c =  0.1 , Score =  0.7508928571428571\nFonction :  sigmoid , c =  0.3 , Score =  0.7437570303712036\nFonction :  sigmoid , c =  1 , Score =  0.7365079365079366\nFonction :  sigmoid , c =  3 , Score =  0.6579575783115607\nFonction :  poly , c =  0.01 , Score =  0.7508928571428571\nFonction :  poly , c =  0.03 , Score =  0.7508928571428571\nFonction :  poly , c =  0.1 , Score =  0.7508928571428571\nFonction :  poly , c =  0.3 , Score =  0.7365079365079366\nFonction :  poly , c =  1 , Score =  0.7365079365079366\nFonction :  poly , c =  3 , Score =  0.7365079365079366\nFonction :  rbf , c =  0.01 , Score =  0.7508928571428571\nFonction :  rbf , c =  0.03 , Score =  0.7508928571428571\nFonction :  rbf , c =  0.1 , Score =  0.7508928571428571\nFonction :  rbf , c =  0.3 , Score =  0.7508928571428571\nFonction :  rbf , c =  1 , Score =  0.7365079365079366\nFonction :  rbf , c =  3 , Score =  0.7564516129032258\nFonction :  linear , c =  0.01 , Score =  0.7508928571428571\nFonction :  linear , c =  0.03 , Score =  0.7508928571428571\nFonction :  linear , c =  0.1 , Score =  0.7508928571428571\nFonction :  linear , c =  0.3 , Score =  0.7508928571428571\nFonction :  linear , c =  1 , Score =  0.7508928571428571\nFonction :  linear , c =  3 , Score =  0.7508928571428571\n",
                    "name": "stdout"
                }
            ]
        },
        {
            "metadata": {},
            "cell_type": "code",
            "source": "#Find best model\n#By graph : \ny_pos = np.arange(len(kernel_func) * len(C_list))\nplt.bar(y_pos, accuracy_score, align='center', alpha = 0.8)\nplt.xticks(y_pos, kernel_func)\nplt.xlabel('Kernel Functions')\nplt.ylabel('Accuracy')\n#By value : \nt = accuracy_score.index(max(accuracy_score))\nprint(t)\nprint(\"Best kernel : \", accuracy_score_data[t][0], \" c : \", accuracy_score_data[t][1], \" score : \", accuracy_score[t])",
            "execution_count": 309,
            "outputs": [
                {
                    "output_type": "stream",
                    "text": "17\nBest kernel :  rbf  c :  3  score :  0.7564516129032258\n",
                    "name": "stdout"
                },
                {
                    "output_type": "display_data",
                    "data": {
                        "text/plain": "<Figure size 432x288 with 1 Axes>",
                        "image/png": "[encoded data removed]"
                    },
                    "metadata": {
                        "needs_background": "light"
                    }
                }
            ]
        },
        {
            "metadata": {},
            "cell_type": "code",
            "source": "svc_model = SVC(C = accuracy_score_data[t][1], gamma = 'auto', kernel = accuracy_score_data[t][0])\nsvc_model.fit(X_train, y_train)\nsvc_model",
            "execution_count": 310,
            "outputs": [
                {
                    "output_type": "execute_result",
                    "execution_count": 310,
                    "data": {
                        "text/plain": "SVC(C=3, gamma='auto')"
                    },
                    "metadata": {}
                }
            ]
        },
        {
            "metadata": {},
            "cell_type": "markdown",
            "source": "# Logistic Regression"
        },
        {
            "metadata": {},
            "cell_type": "code",
            "source": "from sklearn.linear_model import LogisticRegression \nfrom sklearn.metrics import log_loss\nimport matplotlib.pyplot as plt\n%matplotlib inline",
            "execution_count": 311,
            "outputs": []
        },
        {
            "metadata": {},
            "cell_type": "code",
            "source": "solvers = ['lbfgs', 'saga', 'liblinear', 'newton-cg', 'sag']\nregularization_val = [0.0001, 0.0003, 0.001, 0.003, 0.01, 0.03, 0.1, 0.3, 1, 3]\nindex = []\naccuracy_score = []\niterations = 0\n\nfor index1, c in enumerate(regularization_val):\n    for index2, solver in enumerate(solvers):\n        index.append(index1 + index2 *5)\n        iterations +=1\n        lr_model = LogisticRegression(C = c, solver = solver)\n        lr_model.fit(X_train, y_train)\n        lr_yhat = lr_model.predict(X_test)\n        y_prob = lr_model.predict_proba(X_test)\n        print('Test {}: Accuracy at C = {} when Solver = {} is : {}'.format(iterations, c, solver, log_loss(y_test, y_prob) ))\n        accuracy_score.append([c, solver, log_loss(y_test, y_prob)])\n                              \n    print('\\n')",
            "execution_count": 312,
            "outputs": [
                {
                    "output_type": "stream",
                    "text": "Test 1: Accuracy at C = 0.0001 when Solver = lbfgs is : 0.4836780802513107\nTest 2: Accuracy at C = 0.0001 when Solver = saga is : 0.48368973589980474\nTest 3: Accuracy at C = 0.0001 when Solver = liblinear is : 0.6904628532603395\nTest 4: Accuracy at C = 0.0001 when Solver = newton-cg is : 0.4836780765047894\nTest 5: Accuracy at C = 0.0001 when Solver = sag is : 0.4837312682880816\n\n\nTest 6: Accuracy at C = 0.0003 when Solver = lbfgs is : 0.48250260920930627\nTest 7: Accuracy at C = 0.0003 when Solver = saga is : 0.48250249283639796\nTest 8: Accuracy at C = 0.0003 when Solver = liblinear is : 0.685253028001049\nTest 9: Accuracy at C = 0.0003 when Solver = newton-cg is : 0.48250254194018954\nTest 10: Accuracy at C = 0.0003 when Solver = sag is : 0.4824774104161967\n\n\nTest 11: Accuracy at C = 0.001 when Solver = lbfgs is : 0.4787024545768455\nTest 12: Accuracy at C = 0.001 when Solver = saga is : 0.47870293746390635\nTest 13: Accuracy at C = 0.001 when Solver = liblinear is : 0.6685399066061889\nTest 14: Accuracy at C = 0.001 when Solver = newton-cg is : 0.4787024591671967\nTest 15: Accuracy at C = 0.001 when Solver = sag is : 0.4787146304201528\n\n\nTest 16: Accuracy at C = 0.003 when Solver = lbfgs is : 0.46997897578080505\nTest 17: Accuracy at C = 0.003 when Solver = saga is : 0.46998028304733847\nTest 18: Accuracy at C = 0.003 when Solver = liblinear is : 0.6309408013098143\nTest 19: Accuracy at C = 0.003 when Solver = newton-cg is : 0.4699789952611355\nTest 20: Accuracy at C = 0.003 when Solver = sag is : 0.46998175531860614\n\n\nTest 21: Accuracy at C = 0.01 when Solver = lbfgs is : 0.4529024775789561\nTest 22: Accuracy at C = 0.01 when Solver = saga is : 0.45290241079513965\nTest 23: Accuracy at C = 0.01 when Solver = liblinear is : 0.5596633457155463\nTest 24: Accuracy at C = 0.01 when Solver = newton-cg is : 0.4529024348154771\nTest 25: Accuracy at C = 0.01 when Solver = sag is : 0.4529233119618157\n\n\nTest 26: Accuracy at C = 0.03 when Solver = lbfgs is : 0.4382561512849158\nTest 27: Accuracy at C = 0.03 when Solver = saga is : 0.43825512303424813\nTest 28: Accuracy at C = 0.03 when Solver = liblinear is : 0.49449659003030705\nTest 29: Accuracy at C = 0.03 when Solver = newton-cg is : 0.4382559362268977\nTest 30: Accuracy at C = 0.03 when Solver = sag is : 0.43825177199806314\n\n\nTest 31: Accuracy at C = 0.1 when Solver = lbfgs is : 0.4343730868201016\nTest 32: Accuracy at C = 0.1 when Solver = saga is : 0.4343723783728323\nTest 33: Accuracy at C = 0.1 when Solver = liblinear is : 0.4549507341538283\nTest 34: Accuracy at C = 0.1 when Solver = newton-cg is : 0.43437272447873787\nTest 35: Accuracy at C = 0.1 when Solver = sag is : 0.43437198508767244\n\n\nTest 36: Accuracy at C = 0.3 when Solver = lbfgs is : 0.43882770397946746\nTest 37: Accuracy at C = 0.3 when Solver = saga is : 0.4388268851877898\nTest 38: Accuracy at C = 0.3 when Solver = liblinear is : 0.4445463135153462\nTest 39: Accuracy at C = 0.3 when Solver = newton-cg is : 0.43882696317743863\nTest 40: Accuracy at C = 0.3 when Solver = sag is : 0.43883038485342124\n\n\nTest 41: Accuracy at C = 1 when Solver = lbfgs is : 0.44425222729574404\nTest 42: Accuracy at C = 1 when Solver = saga is : 0.4442517809832585\nTest 43: Accuracy at C = 1 when Solver = liblinear is : 0.4448365010799463\nTest 44: Accuracy at C = 1 when Solver = newton-cg is : 0.44425162271161406\nTest 45: Accuracy at C = 1 when Solver = sag is : 0.444251399835891\n\n\nTest 46: Accuracy at C = 3 when Solver = lbfgs is : 0.4470421236910965\nTest 47: Accuracy at C = 3 when Solver = saga is : 0.44704292335320034\nTest 48: Accuracy at C = 3 when Solver = liblinear is : 0.4468690187637449\nTest 49: Accuracy at C = 3 when Solver = newton-cg is : 0.4470427718186427\nTest 50: Accuracy at C = 3 when Solver = sag is : 0.44704319482579796\n\n\n",
                    "name": "stdout"
                }
            ]
        },
        {
            "metadata": {},
            "cell_type": "code",
            "source": "#Max accuracy : \nprint(accuracy_score[pd.DataFrame(accuracy_score)[2].idxmax(axis=0)])\n#Solver : liblinear, C = 0.0001",
            "execution_count": 313,
            "outputs": [
                {
                    "output_type": "stream",
                    "text": "[0.0001, 'liblinear', 0.6904628532603395]\n",
                    "name": "stdout"
                }
            ]
        },
        {
            "metadata": {},
            "cell_type": "code",
            "source": "from sklearn.linear_model import LogisticRegression \n\nlr_model = LogisticRegression(C = 0.0001, solver = 'liblinear')\nlr_model.fit(X_train, y_train)\nlr_model",
            "execution_count": 314,
            "outputs": [
                {
                    "output_type": "execute_result",
                    "execution_count": 314,
                    "data": {
                        "text/plain": "LogisticRegression(C=0.0001, solver='liblinear')"
                    },
                    "metadata": {}
                }
            ]
        },
        {
            "metadata": {},
            "cell_type": "markdown",
            "source": "# Model Evaluation using Test set"
        },
        {
            "metadata": {},
            "cell_type": "code",
            "source": "from sklearn.metrics import jaccard_score\nfrom sklearn.metrics import f1_score\nfrom sklearn.metrics import log_loss",
            "execution_count": 315,
            "outputs": []
        },
        {
            "metadata": {},
            "cell_type": "markdown",
            "source": "First, download and load the test set:"
        },
        {
            "metadata": {},
            "cell_type": "code",
            "source": "!wget -O loan_test.csv https://s3-api.us-geo.objectstorage.softlayer.net/cf-courses-data/CognitiveClass/ML0101ENv3/labs/loan_test.csv",
            "execution_count": 316,
            "outputs": [
                {
                    "output_type": "stream",
                    "text": "--2021-02-23 05:23:34--  https://s3-api.us-geo.objectstorage.softlayer.net/cf-courses-data/CognitiveClass/ML0101ENv3/labs/loan_test.csv\nResolving s3-api.us-geo.objectstorage.softlayer.net (s3-api.us-geo.objectstorage.softlayer.net)... 67.228.254.196\nConnecting to s3-api.us-geo.objectstorage.softlayer.net (s3-api.us-geo.objectstorage.softlayer.net)|67.228.254.196|:443... connected.\nHTTP request sent, awaiting response... 200 OK\nLength: 3642 (3.6K) [text/csv]\nSaving to: \u2018loan_test.csv\u2019\n\nloan_test.csv       100%[===================>]   3.56K  --.-KB/s    in 0s      \n\n2021-02-23 05:23:34 (96.6 MB/s) - \u2018loan_test.csv\u2019 saved [3642/3642]\n\n",
                    "name": "stdout"
                }
            ]
        },
        {
            "metadata": {
                "button": false,
                "new_sheet": false,
                "run_control": {
                    "read_only": false
                }
            },
            "cell_type": "markdown",
            "source": "### Load Test set for evaluation "
        },
        {
            "metadata": {
                "button": false,
                "new_sheet": false,
                "run_control": {
                    "read_only": false
                }
            },
            "cell_type": "code",
            "source": "test_df = pd.read_csv('loan_test.csv')\n#test_df.education.values\n\n#pd.get_dummies(test_df['education'])",
            "execution_count": 317,
            "outputs": []
        },
        {
            "metadata": {},
            "cell_type": "code",
            "source": "# We apply transformations to this new data set : \n# Convert to date time object\ntest_df['due_date'] = pd.to_datetime(test_df['due_date'])\ntest_df['effective_date'] = pd.to_datetime(test_df['effective_date'])\ntest_df['dayofweek'] = test_df['effective_date'].dt.dayofweek\n\n#Lets look at the day of the week people get the loan\ntest_df['weekend'] = test_df['dayofweek'].apply(lambda x: 1 if (x>3)  else 0)\n\n#Lets convert male to 0 and female to 1\ntest_df['Gender'].replace(to_replace=['male','female'], value=[0,1],inplace=True)\n\n#Use one hot encoding technique to conver categorical varables to binary variables and append them to the feature Data Frame\ntest_feature = test_df[['Principal','terms','age','Gender','weekend']]\ntest_feature = pd.concat([test_feature,pd.get_dummies(test_df['education'])], axis=1)\ntest_feature.drop(['Master or Above'], axis = 1,inplace=True)\n\n# Testing feature\nX_loan_test = test_feature\n\n# Normalizing Test Data\nX_loan_test = preprocessing.StandardScaler().fit(X_loan_test).transform(X_loan_test)\n\n# Target result\ny_loan_test = test_df['loan_status'].values",
            "execution_count": 318,
            "outputs": []
        },
        {
            "metadata": {},
            "cell_type": "code",
            "source": "print(test_feature.head())\n\nprint (X_loan_test[0:5])\nprint (X_loan_test.shape)\n\nprint (y_loan_test[0:5])\nprint (y_loan_test.shape)",
            "execution_count": 319,
            "outputs": [
                {
                    "output_type": "stream",
                    "text": "   Principal  terms  age  Gender  weekend  Bechalor  High School or Below  \\\n0       1000     30   50       1        0         1                     0   \n1        300      7   35       0        1         0                     0   \n2       1000     30   43       1        1         0                     1   \n3       1000     30   26       0        1         0                     0   \n4        800     15   29       0        1         1                     0   \n\n   college  \n0        0  \n1        0  \n2        0  \n3        1  \n4        0  \n[[ 0.49362588  0.92844966  3.05981865  1.97714211 -1.30384048  2.39791576\n  -0.79772404 -0.86135677]\n [-3.56269116 -1.70427745  0.53336288 -0.50578054  0.76696499 -0.41702883\n  -0.79772404 -0.86135677]\n [ 0.49362588  0.92844966  1.88080596  1.97714211  0.76696499 -0.41702883\n   1.25356634 -0.86135677]\n [ 0.49362588  0.92844966 -0.98251057 -0.50578054  0.76696499 -0.41702883\n  -0.79772404  1.16095912]\n [-0.66532184 -0.78854628 -0.47721942 -0.50578054  0.76696499  2.39791576\n  -0.79772404 -0.86135677]]\n(54, 8)\n['PAIDOFF' 'PAIDOFF' 'PAIDOFF' 'PAIDOFF' 'PAIDOFF']\n(54,)\n",
                    "name": "stdout"
                }
            ]
        },
        {
            "metadata": {},
            "cell_type": "code",
            "source": "knn_yhat_new = knn_model.predict(X_loan_test)\nprint(knn_yhat_new.shape)\ndt_yhat_new = dt_model.predict(X_loan_test)\nprint(dt_yhat_new.shape)\nsvc_yhat_new = svc_model.predict(X_loan_test)\nprint(svc_yhat_new.shape)\nlr_yhat_new = lr_model.predict(X_loan_test)\nprint(lr_yhat_new.shape)\n\nprint(y_loan_test.shape)",
            "execution_count": 320,
            "outputs": [
                {
                    "output_type": "stream",
                    "text": "(54,)\n(54,)\n(54,)\n(54,)\n(54,)\n",
                    "name": "stdout"
                }
            ]
        },
        {
            "metadata": {},
            "cell_type": "code",
            "source": "from sklearn.metrics import jaccard_score\nfrom sklearn.metrics import f1_score\nfrom sklearn.metrics import log_loss\n\nknn_jaccard_score = jaccard_score(y_loan_test, knn_yhat_new, pos_label = \"PAIDOFF\")\nknn_f1_score = f1_score(y_loan_test, knn_yhat_new, average='weighted')\n\ndt_jaccard_score = jaccard_score(y_loan_test, dt_yhat_new, pos_label = \"PAIDOFF\")\ndt_f1_score = f1_score(y_loan_test, dt_yhat_new, average='weighted')\n\nsvc_jaccard_score = jaccard_score(y_loan_test, svc_yhat_new, pos_label = \"PAIDOFF\")\nsvc_f1_score = f1_score(y_loan_test, svc_yhat_new, average='weighted')\n\nlr_jaccard_score = jaccard_score(y_loan_test, lr_yhat_new, pos_label = \"PAIDOFF\")\nlr_f1_score = f1_score(y_loan_test, lr_yhat_new, average='weighted')\n\nlr_prob = lr_model.predict_proba(X_loan_test)\nlr_log_loss = log_loss(y_loan_test, lr_prob)\n\n",
            "execution_count": 321,
            "outputs": []
        },
        {
            "metadata": {},
            "cell_type": "code",
            "source": "check_df = pd.DataFrame([knn_yhat_new,dt_yhat_new,svc_yhat_new,lr_yhat_new,y_loan_test])\nprint(check_df)",
            "execution_count": 332,
            "outputs": [
                {
                    "output_type": "stream",
                    "text": "        0        1           2           3           4           5        6   \\\n0  PAIDOFF  PAIDOFF  COLLECTION  COLLECTION  COLLECTION  COLLECTION  PAIDOFF   \n1  PAIDOFF  PAIDOFF     PAIDOFF     PAIDOFF     PAIDOFF     PAIDOFF  PAIDOFF   \n2  PAIDOFF  PAIDOFF  COLLECTION     PAIDOFF  COLLECTION     PAIDOFF  PAIDOFF   \n3  PAIDOFF  PAIDOFF     PAIDOFF  COLLECTION     PAIDOFF     PAIDOFF  PAIDOFF   \n4  PAIDOFF  PAIDOFF     PAIDOFF     PAIDOFF     PAIDOFF     PAIDOFF  PAIDOFF   \n\n        7        8        9   ...          44          45          46  \\\n0  PAIDOFF  PAIDOFF  PAIDOFF  ...  COLLECTION     PAIDOFF     PAIDOFF   \n1  PAIDOFF  PAIDOFF  PAIDOFF  ...     PAIDOFF     PAIDOFF     PAIDOFF   \n2  PAIDOFF  PAIDOFF  PAIDOFF  ...  COLLECTION     PAIDOFF     PAIDOFF   \n3  PAIDOFF  PAIDOFF  PAIDOFF  ...     PAIDOFF  COLLECTION     PAIDOFF   \n4  PAIDOFF  PAIDOFF  PAIDOFF  ...  COLLECTION  COLLECTION  COLLECTION   \n\n           47          48          49          50          51          52  \\\n0  COLLECTION     PAIDOFF     PAIDOFF     PAIDOFF  COLLECTION  COLLECTION   \n1     PAIDOFF     PAIDOFF     PAIDOFF     PAIDOFF     PAIDOFF     PAIDOFF   \n2  COLLECTION     PAIDOFF  COLLECTION     PAIDOFF  COLLECTION     PAIDOFF   \n3     PAIDOFF     PAIDOFF  COLLECTION     PAIDOFF  COLLECTION     PAIDOFF   \n4  COLLECTION  COLLECTION  COLLECTION  COLLECTION  COLLECTION  COLLECTION   \n\n           53  \n0     PAIDOFF  \n1     PAIDOFF  \n2     PAIDOFF  \n3     PAIDOFF  \n4  COLLECTION  \n\n[5 rows x 54 columns]\n",
                    "name": "stdout"
                }
            ]
        },
        {
            "metadata": {},
            "cell_type": "code",
            "source": "jaccard = [knn_jaccard_score, dt_jaccard_score, svc_jaccard_score, lr_jaccard_score]\nf1 = [knn_f1_score, dt_f1_score, svc_f1_score, lr_f1_score]\nlog_loss = ['NA', 'NA', 'NA', lr_log_loss]\n\ncol = ['KNN', 'Decision Tree', 'SVM', 'Logistic Regression']\nrow = ['Jaccard', 'F1-score', 'Logloss']\n\nfinal_df = pd.DataFrame([jaccard, f1, log_loss], index = row, columns = col).transpose()\nfinal_df.columns.name = 'Classifier'\nprint(final_df)",
            "execution_count": 333,
            "outputs": [
                {
                    "output_type": "stream",
                    "text": "Classifier            Jaccard  F1-score   Logloss\nKNN                  0.693878  0.710576        NA\nDecision Tree        0.740741  0.630418        NA\nSVM                  0.755102  0.755227        NA\nLogistic Regression  0.755102  0.755227  0.690531\n",
                    "name": "stdout"
                }
            ]
        },
        {
            "metadata": {},
            "cell_type": "markdown",
            "source": "# Report\nYou should be able to report the accuracy of the built model using different evaluation metrics:"
        },
        {
            "metadata": {},
            "cell_type": "markdown",
            "source": "| Algorithm          | Jaccard | F1-score | LogLoss |\n|--------------------|---------|----------|---------|\n| KNN                | ?       | ?        | NA      |\n| Decision Tree      | ?       | ?        | NA      |\n| SVM                | ?       | ?        | NA      |\n| LogisticRegression | ?       | ?        | ?       |"
        },
        {
            "metadata": {
                "button": false,
                "new_sheet": false,
                "run_control": {
                    "read_only": false
                }
            },
            "cell_type": "markdown",
            "source": "<h2>Want to learn more?</h2>\n\nIBM SPSS Modeler is a comprehensive analytics platform that has many machine learning algorithms. It has been designed to bring predictive intelligence to decisions made by individuals, by groups, by systems \u2013 by your enterprise as a whole. A free trial is available through this course, available here: <a href=\"http://cocl.us/ML0101EN-SPSSModeler\">SPSS Modeler</a>\n\nAlso, you can use Watson Studio to run these notebooks faster with bigger datasets. Watson Studio is IBM's leading cloud solution for data scientists, built by data scientists. With Jupyter notebooks, RStudio, Apache Spark and popular libraries pre-packaged in the cloud, Watson Studio enables data scientists to collaborate on their projects without having to install anything. Join the fast-growing community of Watson Studio users today with a free account at <a href=\"https://cocl.us/ML0101EN_DSX\">Watson Studio</a>\n\n<h3>Thanks for completing this lesson!</h3>\n\n<h4>Author:  <a href=\"https://ca.linkedin.com/in/saeedaghabozorgi\">Saeed Aghabozorgi</a></h4>\n<p><a href=\"https://ca.linkedin.com/in/saeedaghabozorgi\">Saeed Aghabozorgi</a>, PhD is a Data Scientist in IBM with a track record of developing enterprise level applications that substantially increases clients\u2019 ability to turn data into actionable knowledge. He is a researcher in data mining field and expert in developing advanced analytic methods like machine learning and statistical modelling on large datasets.</p>\n\n<hr>\n\n<p>Copyright &copy; 2018 <a href=\"https://cocl.us/DX0108EN_CC\">Cognitive Class</a>. This notebook and its source code are released under the terms of the <a href=\"https://bigdatauniversity.com/mit-license/\">MIT License</a>.</p>"
        }
    ],
    "metadata": {
        "kernelspec": {
            "name": "python3",
            "display_name": "Python 3.7",
            "language": "python"
        },
        "language_info": {
            "name": "python",
            "version": "3.7.9",
            "mimetype": "text/x-python",
            "codemirror_mode": {
                "name": "ipython",
                "version": 3
            },
            "pygments_lexer": "ipython3",
            "nbconvert_exporter": "python",
            "file_extension": ".py"
        }
    },
    "nbformat": 4,
    "nbformat_minor": 2
}