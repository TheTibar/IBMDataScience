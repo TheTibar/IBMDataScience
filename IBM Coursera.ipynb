{
    "cells": [
        {
            "metadata": {},
            "cell_type": "markdown",
            "source": "# My Jupyter Notebook on IBM Watson Studio"
        },
        {
            "metadata": {},
            "cell_type": "markdown",
            "source": "**Xavier BAERT**  \nCurrently BI Consultant"
        },
        {
            "metadata": {},
            "cell_type": "markdown",
            "source": "*I'm interested in data science because it's what data scientists do. I love to explain things based on data rather than thoughts.*"
        },
        {
            "metadata": {},
            "cell_type": "markdown",
            "source": "### The little code is supposed to display \"Hello\" followed by the string in parameter."
        },
        {
            "metadata": {},
            "cell_type": "code",
            "source": "def hello(firstname):\n    return \"Hello \" + firstname\n\nmyfirstname = \"Xavier\"\n\nprint(hello(myfirstname))",
            "execution_count": 18,
            "outputs": [
                {
                    "output_type": "stream",
                    "text": "Hello Xavier\n",
                    "name": "stdout"
                }
            ]
        },
        {
            "metadata": {},
            "cell_type": "markdown",
            "source": "  * milk\n  * water\n  \nThis is an exemple of `code`\n  \n  [My Github repository](https://github.com/TheTibar/IBMDataScience)\n  "
        }
    ],
    "metadata": {
        "kernelspec": {
            "name": "python3",
            "display_name": "Python 3.7",
            "language": "python"
        },
        "language_info": {
            "name": "python",
            "version": "3.7.9",
            "mimetype": "text/x-python",
            "codemirror_mode": {
                "name": "ipython",
                "version": 3
            },
            "pygments_lexer": "ipython3",
            "nbconvert_exporter": "python",
            "file_extension": ".py"
        }
    },
    "nbformat": 4,
    "nbformat_minor": 1
}